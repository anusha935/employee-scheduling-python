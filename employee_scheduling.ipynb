import random

# Constants
DAYS = ["Monday", "Tuesday", "Wednesday", "Thursday", "Friday", "Saturday", "Sunday"]
SHIFTS = ["Morning", "Afternoon", "Evening"]
MAX_WORK_DAYS = 5
MIN_EMPLOYEES_PER_SHIFT = 2

# Predefined employees and their ranked preferences
employees = {
    "Alice": {
        "preferences": {
            "Monday": ["Morning"], "Tuesday": ["Afternoon"], "Wednesday": ["Morning"],
            "Thursday": ["Morning"], "Friday": ["Evening"], "Saturday": ["Afternoon"], "Sunday": ["Afternoon"]
        },
        "assigned_days": 0,
        "assigned_shifts": {}
    },
    "John": {
        "preferences": {
            "Monday": ["Morning"], "Tuesday": ["Morning"], "Wednesday": ["Evening"],
            "Thursday": ["Afternoon"], "Friday": ["Afternoon"], "Saturday": ["Afternoon"], "Sunday": ["Morning"]
        },
        "assigned_days": 0,
        "assigned_shifts": {}
    },
    "Helen": {
        "preferences": {
            "Monday": ["Afternoon"], "Tuesday": ["Morning"], "Wednesday": ["Afternoon"],
            "Thursday": ["Evening"], "Friday": ["Morning"], "Saturday": ["Evening"], "Sunday": ["Morning"]
        },
        "assigned_days": 0,
        "assigned_shifts": {}
    },
    "Paul": {
        "preferences": {
            "Monday": ["Afternoon"], "Tuesday": ["Evening"], "Wednesday": ["Afternoon"],
            "Thursday": ["Morning"], "Friday": ["Morning"], "Saturday": ["Evening"], "Sunday": ["Afternoon"]
        },
        "assigned_days": 0,
        "assigned_shifts": {}
    },
    "Steve": {
        "preferences": {
            "Monday": ["Evening"], "Tuesday": ["Evening"], "Wednesday": ["Morning"],
            "Thursday": ["Evening"], "Friday": ["Afternoon"], "Saturday": ["Morning"], "Sunday": ["Evening"]
        },
        "assigned_days": 0,
        "assigned_shifts": {}
    },
    "Clara": {
        "preferences": {
            "Monday": ["Evening"], "Tuesday": ["Afternoon"], "Wednesday": ["Evening"],
            "Thursday": ["Afternoon"], "Friday": ["Evening"], "Saturday": ["Morning"], "Sunday": ["Evening"]
        },
        "assigned_days": 0,
        "assigned_shifts": {}
    }
}

# Initialize schedule
schedule = {day: {shift: [] for shift in SHIFTS} for day in DAYS}

# Assign shifts
for day in DAYS:
    # First, assign employees to preferred shifts
    for name, info in employees.items():
        if info["assigned_days"] < MAX_WORK_DAYS and day not in info["assigned_shifts"]:
            for preferred_shift in info["preferences"][day]:
                if len(schedule[day][preferred_shift]) < MIN_EMPLOYEES_PER_SHIFT:
                    schedule[day][preferred_shift].append(name)
                    info["assigned_days"] += 1
                    info["assigned_shifts"][day] = preferred_shift
                    break

    # Fill under-staffed shifts
    for shift in SHIFTS:
        while len(schedule[day][shift]) < MIN_EMPLOYEES_PER_SHIFT:
            available = [name for name, info in employees.items()
                         if day not in info["assigned_shifts"] and info["assigned_days"] < MAX_WORK_DAYS]
            if not available:
                break
            selected = random.choice(available)
            schedule[day][shift].append(selected)
            employees[selected]["assigned_days"] += 1
            employees[selected]["assigned_shifts"][day] = shift

# Print final schedule
print("\nFinal Weekly Schedule:\n")
for day in DAYS:
    print(f"=== {day} ===")
    for shift in SHIFTS:
        assigned = schedule[day][shift]
        print(f"  {shift:<9}: {', '.join(assigned) if assigned else '(none)'}")
    print()

# Print per-employee assignments
print("Per-employee assigned days:")
for name, info in employees.items():
    assignments = [f"{day}:{info['assigned_shifts'][day].lower()}" 
                   for day in DAYS if day in info["assigned_shifts"]]
    print(f"  {name}: {info['assigned_days']} days -> {', '.join(assignments)}")
